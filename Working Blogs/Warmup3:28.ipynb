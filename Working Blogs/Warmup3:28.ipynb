{
 "cells": [
  {
   "cell_type": "code",
   "execution_count": 1,
   "metadata": {},
   "outputs": [
    {
     "name": "stdout",
     "output_type": "stream",
     "text": [
      "Result 1: 3.000000013459385\n",
      "Result 2: -76.62213126914914\n",
      "Result 3: 8.235542835355941\n"
     ]
    }
   ],
   "source": [
    "def mystery_fun(a, epsilon, alpha, max_iterations = 100):\n",
    "    # Initial guess\n",
    "    x = a \n",
    "    xPrime = 0\n",
    "    j = 0\n",
    "\n",
    "    # Set iteration counter and maximum number of steps\n",
    "    \n",
    "    while abs(xPrime - x) > epsilon:\n",
    "        # Calculate the value of f(x) using the given formula\n",
    "        \n",
    "        # If the absolute difference between f(x) and 0 is less than tolerance, break\n",
    "        if j > max_iterations:\n",
    "            break\n",
    "        loss = x - (a / x)\n",
    "        xPrime= x\n",
    "        x = x - alpha * loss\n",
    "        j += 1\n",
    "    \n",
    "    return x\n",
    "\n",
    "# Testing the function\n",
    "# Test 1: Setting of a for which the function returns a real number very close to the exact value of sqrt(a)\n",
    "result1 = mystery_fun(a=9, epsilon=1e-8, alpha=0.2)\n",
    "print(\"Result 1:\", result1)\n",
    "\n",
    "result2 = mystery_fun(a=9, epsilon=1e-8, alpha=2)\n",
    "print(\"Result 2:\", result2)\n",
    "\n",
    "result3 = mystery_fun(a=9, epsilon=1e-8, alpha=.001)\n",
    "print(\"Result 3:\", result3)\n",
    "\n"
   ]
  },
  {
   "cell_type": "code",
   "execution_count": null,
   "metadata": {},
   "outputs": [],
   "source": []
  }
 ],
 "metadata": {
  "kernelspec": {
   "display_name": "ml-0451",
   "language": "python",
   "name": "python3"
  },
  "language_info": {
   "codemirror_mode": {
    "name": "ipython",
    "version": 3
   },
   "file_extension": ".py",
   "mimetype": "text/x-python",
   "name": "python",
   "nbconvert_exporter": "python",
   "pygments_lexer": "ipython3",
   "version": "3.9.18"
  },
  "orig_nbformat": 4
 },
 "nbformat": 4,
 "nbformat_minor": 2
}
