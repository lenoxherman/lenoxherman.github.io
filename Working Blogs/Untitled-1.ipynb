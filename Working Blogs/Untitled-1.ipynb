{
 "cells": [
  {
   "cell_type": "code",
   "execution_count": 4,
   "metadata": {},
   "outputs": [
    {
     "name": "stderr",
     "output_type": "stream",
     "text": [
      "/var/folders/10/9wfcg10s3yz16fgwcvljkq340000gn/T/ipykernel_7636/925773991.py:17: UserWarning: To copy construct from a tensor, it is recommended to use sourceTensor.clone().detach() or sourceTensor.clone().detach().requires_grad_(True), rather than torch.tensor(sourceTensor).\n",
      "  w = torch.tensor(w_init.clone(), requires_grad=True)\n",
      "/var/folders/10/9wfcg10s3yz16fgwcvljkq340000gn/T/ipykernel_7636/925773991.py:18: UserWarning: To copy construct from a tensor, it is recommended to use sourceTensor.clone().detach() or sourceTensor.clone().detach().requires_grad_(True), rather than torch.tensor(sourceTensor).\n",
      "  b = torch.tensor(torch.rand(1), requires_grad=True)\n"
     ]
    },
    {
     "ename": "RuntimeError",
     "evalue": "grad can be implicitly created only for scalar outputs",
     "output_type": "error",
     "traceback": [
      "\u001b[0;31m---------------------------------------------------------------------------\u001b[0m",
      "\u001b[0;31mRuntimeError\u001b[0m                              Traceback (most recent call last)",
      "\u001b[1;32m/Users/lenoxherman/lenoxherman.github.io/Working Blogs/Untitled-1.ipynb Cell 1\u001b[0m line \u001b[0;36m5\n\u001b[1;32m     <a href='vscode-notebook-cell:/Users/lenoxherman/lenoxherman.github.io/Working%20Blogs/Untitled-1.ipynb#W0sZmlsZQ%3D%3D?line=49'>50</a>\u001b[0m x, y \u001b[39m=\u001b[39m regression_data()\n\u001b[1;32m     <a href='vscode-notebook-cell:/Users/lenoxherman/lenoxherman.github.io/Working%20Blogs/Untitled-1.ipynb#W0sZmlsZQ%3D%3D?line=51'>52</a>\u001b[0m \u001b[39m# Run SGD algorithm\u001b[39;00m\n\u001b[0;32m---> <a href='vscode-notebook-cell:/Users/lenoxherman/lenoxherman.github.io/Working%20Blogs/Untitled-1.ipynb#W0sZmlsZQ%3D%3D?line=52'>53</a>\u001b[0m w_hat, b_hat, empirical_risks \u001b[39m=\u001b[39m sgd_algorithm(x, y)\n\u001b[1;32m     <a href='vscode-notebook-cell:/Users/lenoxherman/lenoxherman.github.io/Working%20Blogs/Untitled-1.ipynb#W0sZmlsZQ%3D%3D?line=54'>55</a>\u001b[0m \u001b[39m# Plot empirical risk evolution during a single epoch\u001b[39;00m\n\u001b[1;32m     <a href='vscode-notebook-cell:/Users/lenoxherman/lenoxherman.github.io/Working%20Blogs/Untitled-1.ipynb#W0sZmlsZQ%3D%3D?line=55'>56</a>\u001b[0m plt\u001b[39m.\u001b[39mfigure(fig_size\u001b[39m=\u001b[39m(\u001b[39m10\u001b[39m, \u001b[39m5\u001b[39m))\n",
      "\u001b[1;32m/Users/lenoxherman/lenoxherman.github.io/Working Blogs/Untitled-1.ipynb Cell 1\u001b[0m line \u001b[0;36m3\n\u001b[1;32m     <a href='vscode-notebook-cell:/Users/lenoxherman/lenoxherman.github.io/Working%20Blogs/Untitled-1.ipynb#W0sZmlsZQ%3D%3D?line=29'>30</a>\u001b[0m \u001b[39m# Compute gradients of the empirical risk (MSE) w.r.t. w and b\u001b[39;00m\n\u001b[1;32m     <a href='vscode-notebook-cell:/Users/lenoxherman/lenoxherman.github.io/Working%20Blogs/Untitled-1.ipynb#W0sZmlsZQ%3D%3D?line=30'>31</a>\u001b[0m loss \u001b[39m=\u001b[39m (w \u001b[39m*\u001b[39m x_i \u001b[39m+\u001b[39m b \u001b[39m-\u001b[39m y_i)\u001b[39m*\u001b[39m\u001b[39m*\u001b[39m\u001b[39m2\u001b[39m\n\u001b[0;32m---> <a href='vscode-notebook-cell:/Users/lenoxherman/lenoxherman.github.io/Working%20Blogs/Untitled-1.ipynb#W0sZmlsZQ%3D%3D?line=31'>32</a>\u001b[0m loss\u001b[39m.\u001b[39;49mbackward()\n\u001b[1;32m     <a href='vscode-notebook-cell:/Users/lenoxherman/lenoxherman.github.io/Working%20Blogs/Untitled-1.ipynb#W0sZmlsZQ%3D%3D?line=33'>34</a>\u001b[0m \u001b[39m# Update parameters using gradients\u001b[39;00m\n\u001b[1;32m     <a href='vscode-notebook-cell:/Users/lenoxherman/lenoxherman.github.io/Working%20Blogs/Untitled-1.ipynb#W0sZmlsZQ%3D%3D?line=34'>35</a>\u001b[0m \u001b[39mwith\u001b[39;00m torch\u001b[39m.\u001b[39mno_grad():\n",
      "File \u001b[0;32m~/anaconda3/envs/ml-0451/lib/python3.9/site-packages/torch/_tensor.py:492\u001b[0m, in \u001b[0;36mTensor.backward\u001b[0;34m(self, gradient, retain_graph, create_graph, inputs)\u001b[0m\n\u001b[1;32m    482\u001b[0m \u001b[39mif\u001b[39;00m has_torch_function_unary(\u001b[39mself\u001b[39m):\n\u001b[1;32m    483\u001b[0m     \u001b[39mreturn\u001b[39;00m handle_torch_function(\n\u001b[1;32m    484\u001b[0m         Tensor\u001b[39m.\u001b[39mbackward,\n\u001b[1;32m    485\u001b[0m         (\u001b[39mself\u001b[39m,),\n\u001b[0;32m   (...)\u001b[0m\n\u001b[1;32m    490\u001b[0m         inputs\u001b[39m=\u001b[39minputs,\n\u001b[1;32m    491\u001b[0m     )\n\u001b[0;32m--> 492\u001b[0m torch\u001b[39m.\u001b[39;49mautograd\u001b[39m.\u001b[39;49mbackward(\n\u001b[1;32m    493\u001b[0m     \u001b[39mself\u001b[39;49m, gradient, retain_graph, create_graph, inputs\u001b[39m=\u001b[39;49minputs\n\u001b[1;32m    494\u001b[0m )\n",
      "File \u001b[0;32m~/anaconda3/envs/ml-0451/lib/python3.9/site-packages/torch/autograd/__init__.py:244\u001b[0m, in \u001b[0;36mbackward\u001b[0;34m(tensors, grad_tensors, retain_graph, create_graph, grad_variables, inputs)\u001b[0m\n\u001b[1;32m    235\u001b[0m inputs \u001b[39m=\u001b[39m (\n\u001b[1;32m    236\u001b[0m     (inputs,)\n\u001b[1;32m    237\u001b[0m     \u001b[39mif\u001b[39;00m \u001b[39misinstance\u001b[39m(inputs, torch\u001b[39m.\u001b[39mTensor)\n\u001b[0;32m   (...)\u001b[0m\n\u001b[1;32m    240\u001b[0m     \u001b[39melse\u001b[39;00m \u001b[39mtuple\u001b[39m()\n\u001b[1;32m    241\u001b[0m )\n\u001b[1;32m    243\u001b[0m grad_tensors_ \u001b[39m=\u001b[39m _tensor_or_tensors_to_tuple(grad_tensors, \u001b[39mlen\u001b[39m(tensors))\n\u001b[0;32m--> 244\u001b[0m grad_tensors_ \u001b[39m=\u001b[39m _make_grads(tensors, grad_tensors_, is_grads_batched\u001b[39m=\u001b[39;49m\u001b[39mFalse\u001b[39;49;00m)\n\u001b[1;32m    245\u001b[0m \u001b[39mif\u001b[39;00m retain_graph \u001b[39mis\u001b[39;00m \u001b[39mNone\u001b[39;00m:\n\u001b[1;32m    246\u001b[0m     retain_graph \u001b[39m=\u001b[39m create_graph\n",
      "File \u001b[0;32m~/anaconda3/envs/ml-0451/lib/python3.9/site-packages/torch/autograd/__init__.py:117\u001b[0m, in \u001b[0;36m_make_grads\u001b[0;34m(outputs, grads, is_grads_batched)\u001b[0m\n\u001b[1;32m    115\u001b[0m \u001b[39mif\u001b[39;00m out\u001b[39m.\u001b[39mrequires_grad:\n\u001b[1;32m    116\u001b[0m     \u001b[39mif\u001b[39;00m out\u001b[39m.\u001b[39mnumel() \u001b[39m!=\u001b[39m \u001b[39m1\u001b[39m:\n\u001b[0;32m--> 117\u001b[0m         \u001b[39mraise\u001b[39;00m \u001b[39mRuntimeError\u001b[39;00m(\n\u001b[1;32m    118\u001b[0m             \u001b[39m\"\u001b[39m\u001b[39mgrad can be implicitly created only for scalar outputs\u001b[39m\u001b[39m\"\u001b[39m\n\u001b[1;32m    119\u001b[0m         )\n\u001b[1;32m    120\u001b[0m     \u001b[39mif\u001b[39;00m \u001b[39mnot\u001b[39;00m out\u001b[39m.\u001b[39mdtype\u001b[39m.\u001b[39mis_floating_point:\n\u001b[1;32m    121\u001b[0m         msg \u001b[39m=\u001b[39m (\n\u001b[1;32m    122\u001b[0m             \u001b[39m\"\u001b[39m\u001b[39mgrad can be implicitly created only for real scalar outputs\u001b[39m\u001b[39m\"\u001b[39m\n\u001b[1;32m    123\u001b[0m             \u001b[39mf\u001b[39m\u001b[39m\"\u001b[39m\u001b[39m but got \u001b[39m\u001b[39m{\u001b[39;00mout\u001b[39m.\u001b[39mdtype\u001b[39m}\u001b[39;00m\u001b[39m\"\u001b[39m\n\u001b[1;32m    124\u001b[0m         )\n",
      "\u001b[0;31mRuntimeError\u001b[0m: grad can be implicitly created only for scalar outputs"
     ]
    }
   ],
   "source": [
    "import torch\n",
    "from matplotlib import pyplot as plt\n",
    "\n",
    "# Generate regression data\n",
    "def regression_data(n=100, w=torch.Tensor([-0.7, 0.5]), x_max=1):\n",
    "    x = torch.rand(n) * x_max\n",
    "    y = x * w[1] + w[0] + 0.05 * torch.rand(n)\n",
    "    return x, y\n",
    "\n",
    "# Define the empirical risk (mean squared error)\n",
    "def empirical_risk(x, y, w, b):\n",
    "    y_pred = w * x + b\n",
    "    return torch.mean((y_pred - y)**2)\n",
    "\n",
    "# Stochastic Gradient Descent (SGD) algorithm\n",
    "def sgd_algorithm(x, y, w_init=torch.rand(2), lr=0.1, epochs=100):\n",
    "    w = torch.tensor(w_init.clone(), requires_grad=True)\n",
    "    b = torch.tensor(torch.rand(1), requires_grad=True)\n",
    "    \n",
    "    empirical_risks = []\n",
    "    \n",
    "    for epoch in range(epochs):\n",
    "        # Shuffle indices for each epoch\n",
    "        indices = torch.randperm(x.shape[0])\n",
    "        \n",
    "        for idx in indices:\n",
    "            x_i = x[idx]\n",
    "            y_i = y[idx]\n",
    "            \n",
    "            # Compute gradients of the empirical risk (MSE) w.r.t. w and b\n",
    "            loss = (w * x_i + b - y_i)**2\n",
    "            loss.backward()\n",
    "            \n",
    "            # Update parameters using gradients\n",
    "            with torch.no_grad():\n",
    "                w -= lr * w.grad\n",
    "                b -= lr * b.grad\n",
    "                \n",
    "                # Manually zero the gradients after updating\n",
    "                w.grad.zero_()\n",
    "                b.grad.zero_()\n",
    "        \n",
    "        # Compute and store empirical risk at the end of each epoch\n",
    "        loss_epoch = empirical_risk(x, y, w, b)\n",
    "        empirical_risks.append(loss_epoch.item())\n",
    "    \n",
    "    return w, b, empirical_risks\n",
    "\n",
    "# Generate data\n",
    "x, y = regression_data()\n",
    "\n",
    "# Run SGD algorithm\n",
    "w_hat, b_hat, empirical_risks = sgd_algorithm(x, y)\n",
    "\n",
    "# Plot empirical risk evolution during a single epoch\n",
    "plt.figure(fig_size=(10, 5))\n",
    "plt.plot(empirical_risks, label='Empirical Risk')\n",
    "plt.xlabel('Iterations')\n",
    "plt.ylabel('Empirical Risk')\n",
    "plt.title('Empirical Risk Evolution During a Single Epoch')\n",
    "plt.legend()\n",
    "plt.show()\n",
    "\n",
    "# Plot empirical risk evolution over 100 epochs\n",
    "_, _, empirical_risks_over_epochs = sgd_algorithm(x, y, epochs=100)\n",
    "\n",
    "plt.figure(fig_size=(10, 5))\n",
    "plt.plot(empirical_risks_over_epochs, label='Empirical Risk')\n",
    "plt.xlabel('Epochs')\n",
    "plt.ylabel('Empirical Risk')\n",
    "plt.title('Empirical Risk Evolution Over 100 Epochs')\n",
    "plt.legend()\n",
    "plt.show()\n"
   ]
  },
  {
   "cell_type": "code",
   "execution_count": null,
   "metadata": {},
   "outputs": [],
   "source": []
  }
 ],
 "metadata": {
  "kernelspec": {
   "display_name": "ml-0451",
   "language": "python",
   "name": "python3"
  },
  "language_info": {
   "codemirror_mode": {
    "name": "ipython",
    "version": 3
   },
   "file_extension": ".py",
   "mimetype": "text/x-python",
   "name": "python",
   "nbconvert_exporter": "python",
   "pygments_lexer": "ipython3",
   "version": "3.9.18"
  },
  "orig_nbformat": 4
 },
 "nbformat": 4,
 "nbformat_minor": 2
}
