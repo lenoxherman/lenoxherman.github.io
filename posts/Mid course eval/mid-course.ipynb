{
 "cells": [
  {
   "attachments": {},
   "cell_type": "markdown",
   "metadata": {},
   "source": [
    "# CSCI 0451: Mid-Course Reflection\n",
    "\n",
    "Lenox Herman"
   ]
  },
  {
   "attachments": {},
   "cell_type": "markdown",
   "metadata": {},
   "source": [
    "## The Data\n",
    "\n",
    "*In this section I'll ask you to fill in some data. You don't have to give precise numbers -- approximate, conversational responses are fine. For example, when I ask \"how often have you attended class,\" good answers include \"almost always,\" \"I've missed three times,\" \"about 75% of the time,\" \"not as often as I want,\" etc.* \n",
    "\n",
    "### Presence in Class\n",
    "\n",
    "- *How often have you attended class? (e.g. \"almost always,\" \"I missed three times,\" etc.)* \n",
    "I have missed 1 class thus far. It was the Thursday before break and I left for my trip early. \n",
    "- *How often have you taken notes on the core readings ahead of the class period?*  I usually don' take notes on the readings, I look at them and skim them but rarely annotate. The readings that deal with Math, especially math required to complete the warmup, I will mark up and takes some notes on to reference back to.\n",
    "- *How often have you been **prepared** to present the daily warm-up exercise to your team, even if you weren't actually called?* I have done the warmup every time! (One of my goals) however on some of the math ones I have been grateful that I was not selected because I was confused by the notation/ questions and therefore had to skip certain sections that me, the reading, and Google couldn't answer. \n",
    "- *How many times have you **actually** presented the daily warm-up to your team?* I have presented the Warmup a twice \n",
    "- *How many times have you asked your team for help while presenting the daily warm-up?* Since we have bene working in the same groups, I have grown comfortable with my group and frequently ask them questions. Usually it is when the warmup involves math, I make them go through the explanation a little slower, or ask them how they cam to their answer. Beyond that as well I ask for their feedback. Even today, I had a loose idea for a project and asked my group how they would rearrange the project to make it better. \n",
    "- *How often have you learned something new from a teammate's presentation of the daily warm-up?* Honestly, almost every time. People often have totally different approaches than me, whether its math or a discussion question, someone always answers in a way that I hadn't thought of\n",
    "- *How often have you helped a teammate during the daily warm-up presentation?* I am usually the one asking the questions, or requiring help in the warm up so not as much as I would like but I hope to improve on that\n",
    "\n",
    "### Presence Outside of Class \n",
    "\n",
    "- *How often have you attended Student Hours or Peer Help?* So much. Alex and I and tight now. I go every almost Sunday and Monday and then some Wednesdays to see Steven. I usually attended 3-5 hours of Peer help hours a week for this course. \n",
    "- *How often have you asked for or received help from your fellow students?* I have asked a few people who I have also seen in help hours for help if I see we are working on similar assignments.\n",
    "- *Have you been regularly participating in a study group outside class?* No. Almost all the work I do for this course is individual thus far, but I am open to that changing! and excited for our group project.  \n",
    "- *How often have you posted questions or answers in Slack?* I have communicated with peers via Slack for help, but have not posted questions in the questions chanel.\n",
    "\n",
    "### Assignments and Effort\n",
    "\n",
    "- *How many blog posts have you submitted?* 2... I have revised one them after receiving feedback so 2.5\n",
    "- *How many of your submitted blog posts are at each of the following feedback stages?*\n",
    "    - E: *No revisions suggested:* 1\n",
    "    - M: *Revisions useful:* 1\n",
    "    - R: *Revisions encouraged:* 0\n",
    "    - N: *Incomplete:* 0\n",
    "    I am resubmitted the blog that received an M, with the suggested edits, so hopefully that changes to an E!\n",
    "- *Roughly how many hours per week have you spent on this course outside of class?* I work on my blog posts every week, it is just a little challenging, because I do not make a lot of progress without someone looking over my shoulder to edit my code. A lot of this work happens during peer help hours. Warmups, Blogs, and Help hours included I spend roughly 7 hours a week on this course. \n"
   ]
  },
  {
   "attachments": {},
   "cell_type": "markdown",
   "metadata": {},
   "source": [
    "## What You've Learned\n",
    "\n",
    "*At the beginning of the course, you may have expressed an interest in focusing a little extra on one or two of the following four categories:* \n",
    "\n",
    "- ***Theory***: *mathematical descriptions of frameworks and algorithms.*\n",
    "- ***Implementation***: *effective coding and use of tools in order to implement efficient machine learning algorithms.*\n",
    "- ***Experimentation***: *performing experiments to assess the performance of algorithms and clearly communicating about the results.*\n",
    "- ***Social responsibility***: *critical analysis of sources of bias and harm in machine learning algorithms; theoretical formulations of fairness and bias*\n",
    "\n",
    "*Did you choose to focus on any of these categories? If so, what have you done in order to pursue your interest?*  I chose to focus on social responsibility and I really enjoy the week that we discussed this in class. The readings were fascinating and helped me to participate more in the discussions. However, I also wanted to challenge myself and improve my Python skills, given this is my first time learning and using it. There has definitely been a big learning curve and I am still gaining more knowledge each time I work with it, but I am definitely a lot more comfortable with the syntax and how it is set up. I have watched some Youtube videos about how it differs than Java, and done some 145 level coding (games that implement for loop, recursion, etc) to get comfortable with its syntax. "
   ]
  },
  {
   "attachments": {},
   "cell_type": "markdown",
   "metadata": {},
   "source": [
    "## Reflecting on Goals\n",
    "\n",
    "*For each of the categories below, replace the \"[your response here]\" cell with 1-2 paragraphs in which you reflect on the following questions:* \n",
    "\n",
    "- *In what ways are you **on track to meet your goals** from the beginning of the course? Be specific: explain what the goal is and what you are doing in order to meet it.* \n",
    "- *In what ways are you **not on track to meet your goals** from the beginning of the course? Be specific: explain what the goal is and what gap you see between where you are and your goal.* \n",
    "- *If there's any **context** you want to share about how you are faring relative to your goals, please do!*\n",
    "\n",
    "### Blog Posts"
   ]
  },
  {
   "attachments": {},
   "cell_type": "markdown",
   "metadata": {},
   "source": [
    "This is the area of this course that I struggle most with and am also the most behind in. My goal for blog posts in this class were to complete more than half and have more than half of the blogs I did complete be Es. So far I have not accomplished this goal seeing as I have only turned in 2 blog posts. The good news is both of Blog posts are Es so I am at least achieving the second half of my goal, though one of them did require a revision. I am currently working on blog 5, but I have ben working on it for about 2 weeks. I was averaging a blog biweekly, but as the material get more complicated, it is taking me longer to complete the blogs. It is a little frustrating because I am dedicating the same amount of time as before, but I am confident I can catch up on my original goals. I think my original goal is still achievable, I just will need to dedicate more time to blog instead of other aspects of the course. "
   ]
  },
  {
   "attachments": {},
   "cell_type": "markdown",
   "metadata": {},
   "source": [
    "### Course Presence (Participation)"
   ]
  },
  {
   "attachments": {},
   "cell_type": "markdown",
   "metadata": {},
   "source": [
    "The good news is I am on track for most of my participation goals. I have completed the warmups and been ready to present, even though I wasn't asked to most times. I also have come to most classes. I hope to maintain this behavior, especially as the weather gets nicer. I think I can improve by participating more beyond our small groups. I have no problem speaking up and sharing my opinion in our small group, but struggle when the audience is the whole class. There have been times that I wanted to share or answer a question, but I wasn't confident enough in my response. In the second half of this course, and especially as we move into our projects, I want to try to push past that and speak up more even if I am not 100% positive in my answer. "
   ]
  },
  {
   "attachments": {},
   "cell_type": "markdown",
   "metadata": {},
   "source": [
    "### Project "
   ]
  },
  {
   "attachments": {},
   "cell_type": "markdown",
   "metadata": {},
   "source": [
    "As for the project I am very excited about getting rolling. Hearing everyone's pitches was fascinating and there were quite a few that I found more interesting than my own! I was so inspired by a few that I decided to rewrite my pitch. As for my goals, they mostly remain the same. I am looking to contribute as much as possible, but recognize that my coding style is probably sower than most. I will focus on contributing to the project in other ways, organization, making sure everyone know what we are working on and when. Putting some of my product management skills to use, fascinating meetings and making sure we are on schedule and theme. "
   ]
  },
  {
   "attachments": {},
   "cell_type": "markdown",
   "metadata": {},
   "source": [
    "### Other\n",
    "\n",
    "*Is there anything else that you want to share with me about what you have learned, how you have participated, or what you have achieved in CSCI 0451?*"
   ]
  },
  {
   "attachments": {},
   "cell_type": "markdown",
   "metadata": {},
   "source": [
    "I would love to hear from you, what I can improve on.  My reflection from the course is very one sided since I can only speak on what I am feeling and struggling with, but as someone who has access to everyone else's goals, achievements, and workload I would love to hear what things I should be doing more of and how I engage more in the course"
   ]
  },
  {
   "attachments": {},
   "cell_type": "markdown",
   "metadata": {},
   "source": [
    "### Updating Your Goals\n",
    "\n",
    "From your experience in CSCI 0451 and your other classes this semester, you may feel moved to make modifications to your goals. Are they still feasible? Too ambitious? Not ambitious enough? If you would like to revise any of your goals from your reflective goal-setting, you can do so below. For each goal you want to modify: \n",
    "\n",
    "1. Clearly state what the goal was. \n",
    "2. Clearly state how you've done on that goal so far. \n",
    "3. Clearly state your proposed revised goal for the remainder of the course. "
   ]
  },
  {
   "attachments": {},
   "cell_type": "markdown",
   "metadata": {},
   "source": [
    "So far my goals have been achievable, while still challenging me. I have not met my goal for blogs post, but I think it is a good challenge to keep that goal and try to complete some more blog posts especially as the project ramps up."
   ]
  },
  {
   "attachments": {},
   "cell_type": "markdown",
   "metadata": {},
   "source": [
    "## Grade and Goals\n",
    "\n",
    "*Take 15 minutes to look back on your responses in each of the sections above. Then, state the letter grade that you feel reflects your learning, participation, and achievement in CSCI 0451 **so far**, and contextualize it against some of the soundbytes below.* \n",
    "\n",
    "### What a Grade Sounds Like\n",
    "\n",
    "*An **A** sounds like:* \n",
    "\n",
    "- *\"I am very proud of my time in this course.\"*\n",
    "- *\"I have grown significantly in multiple ways that matter to me.\"*\n",
    "- *\"I am ready to take the theory, techniques, and ideas of this course into my future classes, projects, hobbies, or career.\"* \n",
    "\n",
    "*A **B** sounds like:* \n",
    "\n",
    "- *\"I had some opportunities to learn more, overall I feel good about my time in this course.\"*\n",
    "- *\"I am able to explain some new things or achieve new tasks.\"*\n",
    "- *\"I can see a few ideas from this course that will be relevant for my future classes, projects, hobbies, or career.\"*\n",
    "\n",
    "*A **C** sounds like:* \n",
    "\n",
    "- *\"I often made a good effort, but I missed many opportunities to get more out of my time in this course.\"*\n",
    "- *\"I might be able to complete some new tasks related to the course content, but only with significant further guidance.\"* \n",
    "- *\"I don't see any ways to take the contents of this course into my future classes, projects, hobbies, or career.\"*\n",
    "\n",
    "*You might find that some of these soundbytes resonate and other's don't! Take some time, see what feels right, and don't be afraid to celebrate your achievements.* "
   ]
  },
  {
   "attachments": {},
   "cell_type": "markdown",
   "metadata": {},
   "source": [
    "> **Upon reflection, I feel that my learning, participation, and achievement in CSCI 0451 (so far) are best reflected by a grade of** B+ / A- \n",
    "\n",
    "> **A way in which I resonate with the soundbytes for that grade above is...** \n",
    "\n",
    "I have grown a lot in this course with math, Python, but also how conceptually I think about machine learning algorithms and how I think about the bias in the algorithms I interact with daily. However, I am behind on my goals, specifically my blog post goal, so I thats why I am not giving myself an A."
   ]
  },
  {
   "attachments": {},
   "cell_type": "markdown",
   "metadata": {},
   "source": [
    "## (Optional:) How to Improve? \n",
    "\n",
    "*You may feel disappointed by your reflection. Sometimes we don't achieve all our goals -- it happens and it's normal! If you are feeling disappointed by how you've learned, participated, or achieved in CSCI 0451, then feel free to write something about that below. Feel free to just write your feelings. If you have ideas for how to move forward, include those too! We'll talk.* "
   ]
  },
  {
   "attachments": {},
   "cell_type": "markdown",
   "metadata": {},
   "source": [
    "Going forward, I hope to at least maintain the same effort and participation form the first 5 weeks if not more. I think I can do a better job speaking up in larger groups, and will try to be intentional about this in my project group. I want to complete blog 5 and at least one more before the project takes up too much of my time. Sometimes I get dejected by all the things I don't understand in this class and I enter a state of resignation where I accept defeat. I want to try to push back against that and seek out answers whenever I feel dumb or like I do not know how to approach a problem. "
   ]
  }
 ],
 "metadata": {
  "kernelspec": {
   "display_name": "ml-0451",
   "language": "python",
   "name": "python3"
  },
  "language_info": {
   "codemirror_mode": {
    "name": "ipython",
    "version": 3
   },
   "file_extension": ".py",
   "mimetype": "text/x-python",
   "name": "python",
   "nbconvert_exporter": "python",
   "pygments_lexer": "ipython3",
   "version": "3.9.18"
  },
  "orig_nbformat": 4,
  "vscode": {
   "interpreter": {
    "hash": "debe06cc0f9553f110b64dc3926c05df82dae2145b852c8422b9c04315589dcb"
   }
  }
 },
 "nbformat": 4,
 "nbformat_minor": 2
}
