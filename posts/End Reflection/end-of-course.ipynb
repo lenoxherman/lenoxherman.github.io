{
 "cells": [
  {
   "attachments": {},
   "cell_type": "markdown",
   "metadata": {},
   "source": [
    "# CSCI 0451: End-Of-Course Reflection\n",
    "\n",
    "Lenox Herman"
   ]
  },
  {
   "attachments": {},
   "cell_type": "markdown",
   "metadata": {},
   "source": [
    "## The Data\n",
    "\n",
    "In this section I'll ask you to fill in some data. You don't have to give precise numbers -- approximate, conversational responses are fine. For example, when I ask \"how often did you attend class,\" good answers include \"almost always,\" \"I missed three times,\" \"about 75% of the time,\" \"not as often as I wanted,\" etc. \n",
    "\n",
    "### Presence in Class\n",
    "\n",
    "- *How often did you attend class? (e.g. \"almost always,\" \"I missed three times,\" etc.)*  I went to class almost every time. I missed a total of 3 classes throughout the semester. \n",
    "- *How often did you take notes on the core readings ahead of the class period?*  I did the readings assigned in the warmup but sometimes I didn't annotate. I would instead just absorb or skim the material without writing anything down. \n",
    "- *How often were you **prepared** to present the daily warm-up exercise to your team, even if you weren't actually called?* I was almost always ready to present the warmup. I had a good group, and the precedent of productive warmups was established early on. We would help each other out if someone's information was wrong or someone was lost, but nobody every showed up unprepared or passed over the warmup when it was their turn to present. So I was always ready to present the warmup. The few times that this wasn't true was because the warmup was math related and I didn't understand the material/needed help on the assignment. I had of course attempted the warmup to the best of my ability but it would be a stretch to say I was confident to present on it.\n",
    "- *How many times did you **actually** present the daily warm-up to your team?* I actually presented the warmup 5 times to my team.\n",
    "- *How many times did you ask your team for help while presenting the daily warm-up?* When I was presenting I didn't ask for help because luckily I knew how to do the warmups I was selected for. However, I would often ask for help or clarification when other people were presenting the warmup because they often skimmed over math concepts that were unfamiliar to me.  \n",
    "- *How often did you learn something new from a teammate's presentation of the daily warm-up?* LOTS! In addition to the more \"mathy\" warmups, I was interested to hear other people's on the more conceptual/discussion style warmups as well. People usually had very different approaches than me. I remember one warm up that had us assign the potential damage to the spread of Covid- 19 in different scenarios, I took a very narrow level individual-based perspective and talked about the personal repercussions. However, some people in my group starting discussing public health concerns, and it was super interesting to see their approach to the same issue. \n",
    "- *How often did you help a teammate during the daily warm-up presentation?* I often contributed to the warmup. As mentioned earlier, we had a very collaborative warmup group so the discussion based warmups flowed really easy. I was often the first to jump in on these and share my thoughts. Since I often wasn't much help or didn't have a lot to add when the warmups were math heavy, I made a special effort to contribute during discussions and lead and participate then. \n",
    "- *Did you contribute a question for our guest speaker?* No, I did not. \n",
    "\n",
    "### Presence Outside of Class \n",
    "\n",
    "- *How often did you attend Student Hours or Peer Help?* I typically went to 1-3 peer review sessions a week. I was a frequent flyer at Alex's office hours on both Sunday and Monday, often being the only one there. Then if I had time I would go to Steven's hours on Wednesdays as well. A lot of the time I spent outside of the classroom for this course was in these peer help hours. I would often go for warmups, in addition to blog posts. \n",
    "- *How often did you ask for or receive help from your fellow students?* I often asked for help from fellow students. Often these discussions happened in peer help hours, or office hours if I saw they were working through and issue similar to me. I would follow up with them after to see if they resolved the issue/bug or let them know how I fixed it. \n",
    "- *Did you regularly participate in a study group outside class?* Excluding peer help hours, I would check in with my classmates 1-2 a month to make sure that we were struggling with the same concepts and completing the same amount of coursework and hours for the class.  \n",
    "- *How often did you post questions or answers in Slack?* I stayed updated on the various channels in slack, looking at questions and answers that other students posed. However, posting in the full group channels gave me anxiety because I could never be sure that the issue with my code wasn't fully user error. Instead, I would hold my questions until office or peer help hours and ask them that way. I did have Slack conversations, one on one with fellow students talking about issues with our code and assisting each other that way. \n",
    "\n",
    "### Assignments and Effort\n",
    "\n",
    "- *How many blog posts did you submit?* I submitted 4 blog posts! (with revisions on each!)\n",
    "- *How many of your submitted blog posts are at each of the following feedback stages?*\n",
    "    - *No revisions suggested:* 3\n",
    "    - *Revisions useful:* 1\n",
    "    - *Revisions encouraged:* 0\n",
    "    - *Incomplete:* 0\n",
    "- *Roughly how many hours per week did you spend on this course outside of class?* I spent about 10-12 hours a week on this course. I went to roughly 4-6 hours of peer tutoring sessions were I worked on blog posts mostly. Each of the warmups typically took my an hour give or take, longer if there was reading, and then of course I would attempt to debug and work on blog posts on my own, but I would't make it very far before I had to bring in outside help (office hours or peer help hours). After we started the project, this number increased, as I would meet with Daniela 3-5 times a week for 2 hours sessions to work on our project. \n"
   ]
  },
  {
   "attachments": {},
   "cell_type": "markdown",
   "metadata": {},
   "source": [
    "## What You Learned\n",
    "\n",
    "*At the beginning of the course, you may have expressed an interest in focusing a little extra on one or two of the following four categories:* \n",
    "\n",
    "- ***Theory***: *mathematical descriptions of frameworks and algorithms.*\n",
    "- ***Implementation***: *effective coding and use of tools in order to implement efficient machine learning algorithms.*\n",
    "- ***Experimentation***: *performing experiments to assess the performance of algorithms and clearly communicating about the results.*\n",
    "- ***Social responsibility***: *critical analysis of sources of bias and harm in machine learning algorithms; theoretical formulations of fairness and bias*\n",
    "\n",
    "*Did you choose to focus on any of these categories? If so, what did you do in order to pursue your interest?*    "
   ]
  },
  {
   "attachments": {},
   "cell_type": "markdown",
   "metadata": {},
   "source": [
    "At the begging of this course, I believe I shared that I wanted to focus social responsibility and experimentation. I am very interested in the idea of algorithmic bias, and the two weeks we spent on it was my favorite of the course. However I do not think that is the area where I grew the most. Originally I chose these two areas of interested because they were what I was good at and felt most comfortable in. Instead of growing those areas of expertise, I ended up practicing theory and implementation and building out those skills. While this choice was a more uncomfortable and pushed me out of my comfort zone more, I think it afforded more rewarding returns.  This exploration involved learning all about matrix multiplication, and other linear algebra concepts in peer help hours with Steven and Alex, as well as watching many Youtube videos to decipher what each wacky symbol represents in the equations shown in class. Then when it came time to implement these equations both in blog posts and the project, I learned a lot about Python syntax and different Python packages and their capabilities. I think the best example of this is I recently went back and edited my first blog post, the Palmer Penguins. I remember being so confuse the first week about what logistic regression was and even more perplexed about how to code it into Python. At the beginning of the semester, I worked on that blog posts for a total of 2 weeks, both on my own and at office hours. However, the revisions for the post only took my two hours. I understood not only the implementation but also all the math background that was happening! "
   ]
  },
  {
   "attachments": {},
   "cell_type": "markdown",
   "metadata": {},
   "source": [
    "## Reflecting on Goals\n",
    "\n",
    "*For each of the categories below, replace the \"[your response here]\" cell with 1-2 paragraphs in which you reflect on the following questions:* \n",
    "\n",
    "- *In what ways did you **meet** your goals from the beginning of the course? Be specific: explain what the goal was and what you did to meet it.* \n",
    "- *In what ways did you **not meet** your goals from the beginning of the course? Be specific: explain what the goal was and what the gap was between what you aspired to and what happened.* \n",
    "- *If there's any **context** you want to share about how you fared relative to your goals, please do!*\n",
    "\n",
    "### Blog Posts"
   ]
  },
  {
   "attachments": {},
   "cell_type": "markdown",
   "metadata": {},
   "source": [
    "This is the one area of the course that I am not as pleased with my performance. If we judge my blog posts by output alone, I am right below the class average with 11 points. I completed 4 blog posts total with 3 Es and one M. My mid-course reflection dictated that I wanted to complete half of the total blog posts, but as the project came along, I quickly feel behind because I was dedicating so much of my available time the project. However, if we view blog posts as time spent on them I am more pleased with my effort. I went back and revised all of my blog posts, sometimes more than once, until there was an output that I was pleased in. More importantly, each blog post saw minimum 8 hours of work. Some of the trickier ones, like perceptron took my multiple weeks of in and out of office hours and peer help hours. I never had a week off of blog posts. I always had a a blog post that I was working on, sometimes moving on to the next one when I was still stuck on another one. Even though my speed of completing blog posts increased a lot, as indicated above, I was still shocked at how long each blog post took me. My original goal was to get an E on every blog post I turned it. I tried to complete this goal, and even attempted to implement minibatch perceptron on my one blog post that was missing an E, however, I ran into an error and ran out of office hours! All in all, blog posts are my biggest area of improvement if I took this course again. "
   ]
  },
  {
   "attachments": {},
   "cell_type": "markdown",
   "metadata": {},
   "source": [
    "### Course Presence (Participation)"
   ]
  },
  {
   "attachments": {},
   "cell_type": "markdown",
   "metadata": {},
   "source": [
    "I am actually very proud of my participation in this course. I showed up to almost every class (even when it was nice out :) and stayed alert and attentive with live coding and lectures in class. As per my goals, I stayed on top of the warmups, even when the topics got out of my capabilities and challenging. As for participation, I stayed on top of course material and while I never felt comfortable enough (with the material not the atmosphere) to speak up in class, I didn't zone out or browse the web during the course."
   ]
  },
  {
   "attachments": {},
   "cell_type": "markdown",
   "metadata": {},
   "source": [
    "### Project "
   ]
  },
  {
   "attachments": {},
   "cell_type": "markdown",
   "metadata": {},
   "source": [
    "As per my initial goals, I did a good job organizing our project. At the beginning we made a tentative timeline for what we wanted to accomplish each week. We met almost every other day, and adhered rigidly to our timeline. I facilitated meeting times and locations as promised. As per my area of interest, I also did all the background research for our project, reading academic journals about the implications of tipping behaviors and the potential biases that are included in this data. In addition to this, I actually coded a lot of the project! Over the semester, I became a lot quicker and confident with coding and was able to concretely contribute to the project! We coded together, which helped eliminate bugs and merging issues. The process was good for both us, as we would catch each others errors before they made it into the code. Similar to the blogs, the output alone of the project may not have been what I envisioned; however I am really proud of the effort and the time we dedicated to the project.  "
   ]
  },
  {
   "attachments": {},
   "cell_type": "markdown",
   "metadata": {},
   "source": [
    "### Other\n",
    "\n",
    "*Is there anything else that you want to share with me about what you learned, how you participated, or what you achieved in CSCI 0451?*"
   ]
  },
  {
   "attachments": {},
   "cell_type": "markdown",
   "metadata": {},
   "source": [
    "The process of proposing my own grade is new to me, this is the first time.  The system feels awkward to me and am not sure if I am way off or right on track since I don't have the perspective of seeing my peers achievement. I do know however that this course was an enriching experience for me. I struggled a lot, and often felt like I was way far behind my classmates, however, I learned so much through that struggle. This course is definitely the computer science class I have grown the most from. The course has HUGE real world applications, and I feel really grateful that I was able to take and extract so much from the course. "
   ]
  },
  {
   "attachments": {},
   "cell_type": "markdown",
   "metadata": {},
   "source": [
    "# Your Proposed Letter Grade\n",
    "\n",
    "*Take 15 minutes to look back on your responses in each of the sections above. Then, make a proposal for the letter grade that you feel best reflects your learning, participation, and achievement in CSCI 0451. Here are some soundbytes to help guide your thinking:*\n",
    "\n",
    "*An **A** sounds like:* \n",
    "\n",
    "- *\"I am very proud of my time in this course.\"*\n",
    "- *\"I have grown significantly in multiple ways that matter to me.\"*\n",
    "- *\"I am ready to take the theory, techniques, and ideas of this course into my future classes, projects, hobbies, or career.\"* \n",
    "\n",
    "*A **B** sounds like:* \n",
    "\n",
    "- *\"I had some opportunities to learn more, overall I feel good about my time in this course.\"*\n",
    "- *\"I am able to explain some new things or achieve new tasks.\"*\n",
    "- *\"I can see a few ideas from this course that will be relevant for my future classes, projects, hobbies, or career.\"*\n",
    "\n",
    "*A **C** sounds like:* \n",
    "\n",
    "- *\"I often made a good effort, but I missed many opportunities to get more out of my time in this course.\"*\n",
    "- *\"I might be able to complete some new tasks related to the course content, but only with significant further guidance.\"* \n",
    "- *\"I don't see any ways to take the contents of this course into my future classes, projects, hobbies, or career.\"*\n",
    "\n",
    "*You might find that some of these soundbytes resonate and other's don't! Take some time, see what feels right, and don't be afraid to celebrate your achievements.* "
   ]
  },
  {
   "attachments": {},
   "cell_type": "markdown",
   "metadata": {},
   "source": [
    "[Your proposed letter grade in this section should be based purely on demonstrations of learning that you have **already submitted**.]{.aside}\n",
    "\n",
    "> **Upon reflection, I feel that my learning, participation, and achievement in CSCI 0451 are best reflected by a grade of** A-/A \n"
   ]
  }
 ],
 "metadata": {
  "kernelspec": {
   "display_name": "ml-0451",
   "language": "python",
   "name": "python3"
  },
  "language_info": {
   "codemirror_mode": {
    "name": "ipython",
    "version": 3
   },
   "file_extension": ".py",
   "mimetype": "text/x-python",
   "name": "python",
   "nbconvert_exporter": "python",
   "pygments_lexer": "ipython3",
   "version": "3.9.18"
  },
  "orig_nbformat": 4,
  "vscode": {
   "interpreter": {
    "hash": "debe06cc0f9553f110b64dc3926c05df82dae2145b852c8422b9c04315589dcb"
   }
  }
 },
 "nbformat": 4,
 "nbformat_minor": 2
}
